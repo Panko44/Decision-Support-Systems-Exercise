{
  "nbformat": 4,
  "nbformat_minor": 0,
  "metadata": {
    "colab": {
      "provenance": [],
      "include_colab_link": true
    },
    "kernelspec": {
      "name": "python3",
      "display_name": "Python 3"
    },
    "language_info": {
      "name": "python"
    }
  },
  "cells": [
    {
      "cell_type": "markdown",
      "metadata": {
        "id": "view-in-github",
        "colab_type": "text"
      },
      "source": [
        "<a href=\"https://colab.research.google.com/github/Panko44/SysthmataLhpshsApofasewn/blob/main/%CE%95%CF%81%CE%B3%CE%B1%CF%83%CE%AF%CE%B1_%CE%A3%CF%85%CF%83%CF%84%CE%AE%CE%BC%CE%B1%CF%84%CE%B1_%CE%9B%CE%AE%CF%88%CE%B7%CF%82_%CE%91%CF%80%CE%BF%CF%86%CE%AC%CF%83%CE%B5%CF%89%CE%BD.ipynb\" target=\"_parent\"><img src=\"https://colab.research.google.com/assets/colab-badge.svg\" alt=\"Open In Colab\"/></a>"
      ]
    },
    {
      "cell_type": "code",
      "source": [
        "import numpy as np\n",
        "import pandas as pd\n",
        "import matplotlib.pyplot as plt\n",
        "import plotly.express as px\n",
        "from sklearn import metrics\n",
        "from sklearn.metrics import f1_score\n",
        "from sklearn.metrics import precision_score\n",
        "from sklearn.metrics import recall_score\n",
        "from sklearn.metrics import confusion_matrix\n",
        "from sklearn.preprocessing import LabelEncoder\n",
        "from sklearn.preprocessing import StandardScaler\n",
        "from sklearn.model_selection import train_test_split\n",
        "from sklearn.naive_bayes import GaussianNB,MultinomialNB,BernoulliNB\n",
        "from sklearn.neighbors import KNeighborsClassifier\n",
        "from google.colab import drive\n"
      ],
      "metadata": {
        "id": "0nrn6MpRBI_r"
      },
      "execution_count": null,
      "outputs": []
    },
    {
      "cell_type": "code",
      "source": [
        "drive.mount('/content/drive')\n",
        "path = \"/content/drive/MyDrive/heart_2020_cleaned.csv\"\n",
        "Health_data = pd.read_csv(path)"
      ],
      "metadata": {
        "id": "eLyFf3O4BP4Q"
      },
      "execution_count": null,
      "outputs": []
    },
    {
      "cell_type": "code",
      "source": [
        "Health_data.info()"
      ],
      "metadata": {
        "id": "O50flWHbBRAm",
        "colab": {
          "base_uri": "https://localhost:8080/"
        },
        "outputId": "5da8e754-546e-4770-c80a-226a1a3c96e6"
      },
      "execution_count": null,
      "outputs": [
        {
          "output_type": "stream",
          "name": "stdout",
          "text": [
            "<class 'pandas.core.frame.DataFrame'>\n",
            "RangeIndex: 319795 entries, 0 to 319794\n",
            "Data columns (total 18 columns):\n",
            " #   Column            Non-Null Count   Dtype  \n",
            "---  ------            --------------   -----  \n",
            " 0   HeartDisease      319795 non-null  object \n",
            " 1   BMI               319795 non-null  float64\n",
            " 2   Smoking           319795 non-null  object \n",
            " 3   AlcoholDrinking   319795 non-null  object \n",
            " 4   Stroke            319795 non-null  object \n",
            " 5   PhysicalHealth    319795 non-null  float64\n",
            " 6   MentalHealth      319795 non-null  float64\n",
            " 7   DiffWalking       319795 non-null  object \n",
            " 8   Sex               319795 non-null  object \n",
            " 9   AgeCategory       319795 non-null  object \n",
            " 10  Race              319795 non-null  object \n",
            " 11  Diabetic          319795 non-null  object \n",
            " 12  PhysicalActivity  319795 non-null  object \n",
            " 13  GenHealth         319795 non-null  object \n",
            " 14  SleepTime         319795 non-null  float64\n",
            " 15  Asthma            319795 non-null  object \n",
            " 16  KidneyDisease     319795 non-null  object \n",
            " 17  SkinCancer        319795 non-null  object \n",
            "dtypes: float64(4), object(14)\n",
            "memory usage: 43.9+ MB\n"
          ]
        }
      ]
    },
    {
      "cell_type": "code",
      "source": [
        "Health_data.head()"
      ],
      "metadata": {
        "id": "Xal78VSQTzon",
        "colab": {
          "base_uri": "https://localhost:8080/",
          "height": 270
        },
        "outputId": "4518f175-097a-45e8-f6c2-827ea4c7e971"
      },
      "execution_count": null,
      "outputs": [
        {
          "output_type": "execute_result",
          "data": {
            "text/plain": [
              "  HeartDisease    BMI Smoking AlcoholDrinking Stroke  PhysicalHealth  \\\n",
              "0           No  16.60     Yes              No     No             3.0   \n",
              "1           No  20.34      No              No    Yes             0.0   \n",
              "2           No  26.58     Yes              No     No            20.0   \n",
              "3           No  24.21      No              No     No             0.0   \n",
              "4           No  23.71      No              No     No            28.0   \n",
              "\n",
              "   MentalHealth DiffWalking     Sex  AgeCategory   Race Diabetic  \\\n",
              "0          30.0          No  Female        55-59  White      Yes   \n",
              "1           0.0          No  Female  80 or older  White       No   \n",
              "2          30.0          No    Male        65-69  White      Yes   \n",
              "3           0.0          No  Female        75-79  White       No   \n",
              "4           0.0         Yes  Female        40-44  White       No   \n",
              "\n",
              "  PhysicalActivity  GenHealth  SleepTime Asthma KidneyDisease SkinCancer  \n",
              "0              Yes  Very good        5.0    Yes            No        Yes  \n",
              "1              Yes  Very good        7.0     No            No         No  \n",
              "2              Yes       Fair        8.0    Yes            No         No  \n",
              "3               No       Good        6.0     No            No        Yes  \n",
              "4              Yes  Very good        8.0     No            No         No  "
            ],
            "text/html": [
              "\n",
              "  <div id=\"df-21508380-257b-40e5-9b0d-b21a65a9379b\">\n",
              "    <div class=\"colab-df-container\">\n",
              "      <div>\n",
              "<style scoped>\n",
              "    .dataframe tbody tr th:only-of-type {\n",
              "        vertical-align: middle;\n",
              "    }\n",
              "\n",
              "    .dataframe tbody tr th {\n",
              "        vertical-align: top;\n",
              "    }\n",
              "\n",
              "    .dataframe thead th {\n",
              "        text-align: right;\n",
              "    }\n",
              "</style>\n",
              "<table border=\"1\" class=\"dataframe\">\n",
              "  <thead>\n",
              "    <tr style=\"text-align: right;\">\n",
              "      <th></th>\n",
              "      <th>HeartDisease</th>\n",
              "      <th>BMI</th>\n",
              "      <th>Smoking</th>\n",
              "      <th>AlcoholDrinking</th>\n",
              "      <th>Stroke</th>\n",
              "      <th>PhysicalHealth</th>\n",
              "      <th>MentalHealth</th>\n",
              "      <th>DiffWalking</th>\n",
              "      <th>Sex</th>\n",
              "      <th>AgeCategory</th>\n",
              "      <th>Race</th>\n",
              "      <th>Diabetic</th>\n",
              "      <th>PhysicalActivity</th>\n",
              "      <th>GenHealth</th>\n",
              "      <th>SleepTime</th>\n",
              "      <th>Asthma</th>\n",
              "      <th>KidneyDisease</th>\n",
              "      <th>SkinCancer</th>\n",
              "    </tr>\n",
              "  </thead>\n",
              "  <tbody>\n",
              "    <tr>\n",
              "      <th>0</th>\n",
              "      <td>No</td>\n",
              "      <td>16.60</td>\n",
              "      <td>Yes</td>\n",
              "      <td>No</td>\n",
              "      <td>No</td>\n",
              "      <td>3.0</td>\n",
              "      <td>30.0</td>\n",
              "      <td>No</td>\n",
              "      <td>Female</td>\n",
              "      <td>55-59</td>\n",
              "      <td>White</td>\n",
              "      <td>Yes</td>\n",
              "      <td>Yes</td>\n",
              "      <td>Very good</td>\n",
              "      <td>5.0</td>\n",
              "      <td>Yes</td>\n",
              "      <td>No</td>\n",
              "      <td>Yes</td>\n",
              "    </tr>\n",
              "    <tr>\n",
              "      <th>1</th>\n",
              "      <td>No</td>\n",
              "      <td>20.34</td>\n",
              "      <td>No</td>\n",
              "      <td>No</td>\n",
              "      <td>Yes</td>\n",
              "      <td>0.0</td>\n",
              "      <td>0.0</td>\n",
              "      <td>No</td>\n",
              "      <td>Female</td>\n",
              "      <td>80 or older</td>\n",
              "      <td>White</td>\n",
              "      <td>No</td>\n",
              "      <td>Yes</td>\n",
              "      <td>Very good</td>\n",
              "      <td>7.0</td>\n",
              "      <td>No</td>\n",
              "      <td>No</td>\n",
              "      <td>No</td>\n",
              "    </tr>\n",
              "    <tr>\n",
              "      <th>2</th>\n",
              "      <td>No</td>\n",
              "      <td>26.58</td>\n",
              "      <td>Yes</td>\n",
              "      <td>No</td>\n",
              "      <td>No</td>\n",
              "      <td>20.0</td>\n",
              "      <td>30.0</td>\n",
              "      <td>No</td>\n",
              "      <td>Male</td>\n",
              "      <td>65-69</td>\n",
              "      <td>White</td>\n",
              "      <td>Yes</td>\n",
              "      <td>Yes</td>\n",
              "      <td>Fair</td>\n",
              "      <td>8.0</td>\n",
              "      <td>Yes</td>\n",
              "      <td>No</td>\n",
              "      <td>No</td>\n",
              "    </tr>\n",
              "    <tr>\n",
              "      <th>3</th>\n",
              "      <td>No</td>\n",
              "      <td>24.21</td>\n",
              "      <td>No</td>\n",
              "      <td>No</td>\n",
              "      <td>No</td>\n",
              "      <td>0.0</td>\n",
              "      <td>0.0</td>\n",
              "      <td>No</td>\n",
              "      <td>Female</td>\n",
              "      <td>75-79</td>\n",
              "      <td>White</td>\n",
              "      <td>No</td>\n",
              "      <td>No</td>\n",
              "      <td>Good</td>\n",
              "      <td>6.0</td>\n",
              "      <td>No</td>\n",
              "      <td>No</td>\n",
              "      <td>Yes</td>\n",
              "    </tr>\n",
              "    <tr>\n",
              "      <th>4</th>\n",
              "      <td>No</td>\n",
              "      <td>23.71</td>\n",
              "      <td>No</td>\n",
              "      <td>No</td>\n",
              "      <td>No</td>\n",
              "      <td>28.0</td>\n",
              "      <td>0.0</td>\n",
              "      <td>Yes</td>\n",
              "      <td>Female</td>\n",
              "      <td>40-44</td>\n",
              "      <td>White</td>\n",
              "      <td>No</td>\n",
              "      <td>Yes</td>\n",
              "      <td>Very good</td>\n",
              "      <td>8.0</td>\n",
              "      <td>No</td>\n",
              "      <td>No</td>\n",
              "      <td>No</td>\n",
              "    </tr>\n",
              "  </tbody>\n",
              "</table>\n",
              "</div>\n",
              "      <button class=\"colab-df-convert\" onclick=\"convertToInteractive('df-21508380-257b-40e5-9b0d-b21a65a9379b')\"\n",
              "              title=\"Convert this dataframe to an interactive table.\"\n",
              "              style=\"display:none;\">\n",
              "        \n",
              "  <svg xmlns=\"http://www.w3.org/2000/svg\" height=\"24px\"viewBox=\"0 0 24 24\"\n",
              "       width=\"24px\">\n",
              "    <path d=\"M0 0h24v24H0V0z\" fill=\"none\"/>\n",
              "    <path d=\"M18.56 5.44l.94 2.06.94-2.06 2.06-.94-2.06-.94-.94-2.06-.94 2.06-2.06.94zm-11 1L8.5 8.5l.94-2.06 2.06-.94-2.06-.94L8.5 2.5l-.94 2.06-2.06.94zm10 10l.94 2.06.94-2.06 2.06-.94-2.06-.94-.94-2.06-.94 2.06-2.06.94z\"/><path d=\"M17.41 7.96l-1.37-1.37c-.4-.4-.92-.59-1.43-.59-.52 0-1.04.2-1.43.59L10.3 9.45l-7.72 7.72c-.78.78-.78 2.05 0 2.83L4 21.41c.39.39.9.59 1.41.59.51 0 1.02-.2 1.41-.59l7.78-7.78 2.81-2.81c.8-.78.8-2.07 0-2.86zM5.41 20L4 18.59l7.72-7.72 1.47 1.35L5.41 20z\"/>\n",
              "  </svg>\n",
              "      </button>\n",
              "      \n",
              "  <style>\n",
              "    .colab-df-container {\n",
              "      display:flex;\n",
              "      flex-wrap:wrap;\n",
              "      gap: 12px;\n",
              "    }\n",
              "\n",
              "    .colab-df-convert {\n",
              "      background-color: #E8F0FE;\n",
              "      border: none;\n",
              "      border-radius: 50%;\n",
              "      cursor: pointer;\n",
              "      display: none;\n",
              "      fill: #1967D2;\n",
              "      height: 32px;\n",
              "      padding: 0 0 0 0;\n",
              "      width: 32px;\n",
              "    }\n",
              "\n",
              "    .colab-df-convert:hover {\n",
              "      background-color: #E2EBFA;\n",
              "      box-shadow: 0px 1px 2px rgba(60, 64, 67, 0.3), 0px 1px 3px 1px rgba(60, 64, 67, 0.15);\n",
              "      fill: #174EA6;\n",
              "    }\n",
              "\n",
              "    [theme=dark] .colab-df-convert {\n",
              "      background-color: #3B4455;\n",
              "      fill: #D2E3FC;\n",
              "    }\n",
              "\n",
              "    [theme=dark] .colab-df-convert:hover {\n",
              "      background-color: #434B5C;\n",
              "      box-shadow: 0px 1px 3px 1px rgba(0, 0, 0, 0.15);\n",
              "      filter: drop-shadow(0px 1px 2px rgba(0, 0, 0, 0.3));\n",
              "      fill: #FFFFFF;\n",
              "    }\n",
              "  </style>\n",
              "\n",
              "      <script>\n",
              "        const buttonEl =\n",
              "          document.querySelector('#df-21508380-257b-40e5-9b0d-b21a65a9379b button.colab-df-convert');\n",
              "        buttonEl.style.display =\n",
              "          google.colab.kernel.accessAllowed ? 'block' : 'none';\n",
              "\n",
              "        async function convertToInteractive(key) {\n",
              "          const element = document.querySelector('#df-21508380-257b-40e5-9b0d-b21a65a9379b');\n",
              "          const dataTable =\n",
              "            await google.colab.kernel.invokeFunction('convertToInteractive',\n",
              "                                                     [key], {});\n",
              "          if (!dataTable) return;\n",
              "\n",
              "          const docLinkHtml = 'Like what you see? Visit the ' +\n",
              "            '<a target=\"_blank\" href=https://colab.research.google.com/notebooks/data_table.ipynb>data table notebook</a>'\n",
              "            + ' to learn more about interactive tables.';\n",
              "          element.innerHTML = '';\n",
              "          dataTable['output_type'] = 'display_data';\n",
              "          await google.colab.output.renderOutput(dataTable, element);\n",
              "          const docLink = document.createElement('div');\n",
              "          docLink.innerHTML = docLinkHtml;\n",
              "          element.appendChild(docLink);\n",
              "        }\n",
              "      </script>\n",
              "    </div>\n",
              "  </div>\n",
              "  "
            ]
          },
          "metadata": {},
          "execution_count": 4
        }
      ]
    },
    {
      "cell_type": "code",
      "source": [
        "Health_data.Stroke.value_counts(normalize=True)\n",
        "\n",
        "#plot the pie chart of education categories\n",
        "Health_data.Stroke.value_counts(normalize=True).plot.pie()\n",
        "plt.show()\n"
      ],
      "metadata": {
        "id": "OVlU_P42YAhu",
        "colab": {
          "base_uri": "https://localhost:8080/",
          "height": 406
        },
        "outputId": "3e1c2757-8ff7-45aa-909c-0677c700923f"
      },
      "execution_count": null,
      "outputs": [
        {
          "output_type": "display_data",
          "data": {
            "text/plain": [
              "<Figure size 640x480 with 1 Axes>"
            ],
            "image/png": "[encoded data removed]"
          },
          "metadata": {}
        }
      ]
    },
    {
      "cell_type": "code",
      "source": [
        "Health_data.KidneyDisease.value_counts(normalize=True)\n",
        "\n",
        "#plot the pie chart of education categories\n",
        "Health_data.KidneyDisease.value_counts(normalize=True).plot.pie()\n",
        "plt.show()"
      ],
      "metadata": {
        "id": "cyxofRUiJX09",
        "colab": {
          "base_uri": "https://localhost:8080/",
          "height": 248
        },
        "outputId": "1c2221b8-b008-452c-c8bd-d51d2f4e3248"
      },
      "execution_count": null,
      "outputs": [
        {
          "output_type": "display_data",
          "data": {
            "text/plain": [
              "<Figure size 432x288 with 1 Axes>"
            ],
            "image/png": "[encoded data removed]"
          },
          "metadata": {}
        }
      ]
    },
    {
      "cell_type": "code",
      "source": [
        "Health_data.HeartDisease.value_counts(normalize=True)\n",
        "\n",
        "#plot the pie chart of education categories\n",
        "Health_data.HeartDisease.value_counts(normalize=True).plot.pie()\n",
        "plt.show()"
      ],
      "metadata": {
        "id": "D35l23frJghx",
        "colab": {
          "base_uri": "https://localhost:8080/",
          "height": 248
        },
        "outputId": "a6b77ad9-511b-4ec1-80f7-5f7b756a3462"
      },
      "execution_count": null,
      "outputs": [
        {
          "output_type": "display_data",
          "data": {
            "text/plain": [
              "<Figure size 432x288 with 1 Axes>"
            ],
            "image/png": "[encoded data removed]"
          },
          "metadata": {}
        }
      ]
    },
    {
      "cell_type": "code",
      "source": [
        "Health_data.AgeCategory.value_counts(normalize=True)\n",
        "\n",
        "#plot the pie chart of education categories\n",
        "Health_data.AgeCategory.value_counts(normalize=True).plot.pie()\n",
        "plt.show()"
      ],
      "metadata": {
        "id": "cT0CkOd2JzQe",
        "colab": {
          "base_uri": "https://localhost:8080/",
          "height": 248
        },
        "outputId": "4871db16-ad87-4e04-bf20-79d14fd91d06"
      },
      "execution_count": null,
      "outputs": [
        {
          "output_type": "display_data",
          "data": {
            "text/plain": [
              "<Figure size 432x288 with 1 Axes>"
            ],
            "image/png": "[encoded data removed]"
          },
          "metadata": {}
        }
      ]
    },
    {
      "cell_type": "code",
      "source": [
        "Health_data.DiffWalking.value_counts(normalize=True)\n",
        "\n",
        "#plot the pie chart of education categories\n",
        "Health_data.DiffWalking.value_counts(normalize=True).plot.pie()\n",
        "plt.show()"
      ],
      "metadata": {
        "id": "SU6sU4TKKknd",
        "colab": {
          "base_uri": "https://localhost:8080/",
          "height": 248
        },
        "outputId": "9401b020-f147-4448-84e3-e79eaa4c9049"
      },
      "execution_count": null,
      "outputs": [
        {
          "output_type": "display_data",
          "data": {
            "text/plain": [
              "<Figure size 432x288 with 1 Axes>"
            ],
            "image/png": "[encoded data removed]"
          },
          "metadata": {}
        }
      ]
    },
    {
      "cell_type": "code",
      "source": [
        "df = pd.DataFrame(Health_data)\n",
        "top_10 = df['DiffWalking'].value_counts()[:10]\n",
        "top_10.plot(kind='bar',figsize=(10,8))\n",
        "plt.title('Plot the DiffWalking of all people')"
      ],
      "metadata": {
        "id": "BPyILBGBaFM9",
        "colab": {
          "base_uri": "https://localhost:8080/",
          "height": 523
        },
        "outputId": "b13e3197-9c30-4fc8-facd-02bd500b5bff"
      },
      "execution_count": null,
      "outputs": [
        {
          "output_type": "execute_result",
          "data": {
            "text/plain": [
              "Text(0.5, 1.0, 'Plot the DiffWalking of all people')"
            ]
          },
          "metadata": {},
          "execution_count": 10
        },
        {
          "output_type": "display_data",
          "data": {
            "text/plain": [
              "<Figure size 720x576 with 1 Axes>"
            ],
            "image/png": "[encoded data removed]"
          },
          "metadata": {
            "needs_background": "light"
          }
        }
      ]
    },
    {
      "cell_type": "code",
      "source": [
        "df = pd.DataFrame(Health_data)\n",
        "top_10 = df['HeartDisease'].value_counts()[:10]\n",
        "top_10.plot(kind='bar',figsize=(10,8))\n",
        "plt.title('Plot people who have heart disease')"
      ],
      "metadata": {
        "id": "r5mcOey7bMRb",
        "colab": {
          "base_uri": "https://localhost:8080/",
          "height": 523
        },
        "outputId": "ada65f5d-9cb6-4072-d985-cf462e0d1044"
      },
      "execution_count": null,
      "outputs": [
        {
          "output_type": "execute_result",
          "data": {
            "text/plain": [
              "Text(0.5, 1.0, 'Plot people who have heart disease')"
            ]
          },
          "metadata": {},
          "execution_count": 11
        },
        {
          "output_type": "display_data",
          "data": {
            "text/plain": [
              "<Figure size 720x576 with 1 Axes>"
            ],
            "image/png": "[encoded data removed]"
          },
          "metadata": {
            "needs_background": "light"
          }
        }
      ]
    },
    {
      "cell_type": "code",
      "source": [
        "df = pd.DataFrame(Health_data)\n",
        "top_10 = df['AgeCategory'].value_counts()[:10]\n",
        "top_10.plot(kind='bar',figsize=(10,8))\n",
        "plt.title('Plot AgeCategory')"
      ],
      "metadata": {
        "id": "rfSK6_Otbgu1",
        "colab": {
          "base_uri": "https://localhost:8080/",
          "height": 561
        },
        "outputId": "c14ceab8-badf-461c-a658-05291f6e52d8"
      },
      "execution_count": null,
      "outputs": [
        {
          "output_type": "execute_result",
          "data": {
            "text/plain": [
              "Text(0.5, 1.0, 'Plot AgeCategory')"
            ]
          },
          "metadata": {},
          "execution_count": 12
        },
        {
          "output_type": "display_data",
          "data": {
            "text/plain": [
              "<Figure size 720x576 with 1 Axes>"
            ],
            "image/png": "[encoded data removed]"
          },
          "metadata": {
            "needs_background": "light"
          }
        }
      ]
    },
    {
      "cell_type": "code",
      "source": [
        "df = pd.DataFrame(Health_data)\n",
        "top_10 = df['KidneyDisease'].value_counts()[:10]\n",
        "top_10.plot(kind='bar',figsize=(10,8))\n",
        "plt.title('Plot KidneyDisease')"
      ],
      "metadata": {
        "id": "p7pPfVWxb8LM",
        "colab": {
          "base_uri": "https://localhost:8080/",
          "height": 523
        },
        "outputId": "2d23dcde-6816-4474-b5df-bf1ff07d7fb9"
      },
      "execution_count": null,
      "outputs": [
        {
          "output_type": "execute_result",
          "data": {
            "text/plain": [
              "Text(0.5, 1.0, 'Plot KidneyDisease')"
            ]
          },
          "metadata": {},
          "execution_count": 13
        },
        {
          "output_type": "display_data",
          "data": {
            "text/plain": [
              "<Figure size 720x576 with 1 Axes>"
            ],
            "image/png": "[encoded data removed]"
          },
          "metadata": {
            "needs_background": "light"
          }
        }
      ]
    },
    {
      "cell_type": "code",
      "source": [
        "df = pd.DataFrame(Health_data)\n",
        "top_10 = df['Stroke'].value_counts()[:10]\n",
        "top_10.plot(kind='bar',figsize=(10,8))\n",
        "plt.title('Plot Stroke')"
      ],
      "metadata": {
        "id": "-nse94WpcOK3",
        "colab": {
          "base_uri": "https://localhost:8080/",
          "height": 523
        },
        "outputId": "7afae59a-0247-45a1-8687-d4871e5fb8e0"
      },
      "execution_count": null,
      "outputs": [
        {
          "output_type": "execute_result",
          "data": {
            "text/plain": [
              "Text(0.5, 1.0, 'Plot Stroke')"
            ]
          },
          "metadata": {},
          "execution_count": 14
        },
        {
          "output_type": "display_data",
          "data": {
            "text/plain": [
              "<Figure size 720x576 with 1 Axes>"
            ],
            "image/png": "[encoded data removed]"
          },
          "metadata": {
            "needs_background": "light"
          }
        }
      ]
    },
    {
      "cell_type": "code",
      "source": [
        "#categorial\n",
        "le = LabelEncoder()\n",
        "col = Health_data[['HeartDisease', 'Smoking', 'AlcoholDrinking','AgeCategory', 'Stroke', 'DiffWalking','Race', 'Sex','PhysicalActivity', 'Asthma', 'KidneyDisease', 'SkinCancer','GenHealth' ,'Diabetic']]\n",
        "for i in col:\n",
        "  Health_data[i] = le.fit_transform(Health_data[i])\n",
        "Health_data.head()"
      ],
      "metadata": {
        "id": "BINdSAYWl-gF",
        "colab": {
          "base_uri": "https://localhost:8080/",
          "height": 270
        },
        "outputId": "c07f1388-1867-4f0d-cada-1391435a7a96"
      },
      "execution_count": null,
      "outputs": [
        {
          "output_type": "execute_result",
          "data": {
            "text/plain": [
              "   HeartDisease    BMI  Smoking  AlcoholDrinking  Stroke  PhysicalHealth  \\\n",
              "0             0  16.60        1                0       0             3.0   \n",
              "1             0  20.34        0                0       1             0.0   \n",
              "2             0  26.58        1                0       0            20.0   \n",
              "3             0  24.21        0                0       0             0.0   \n",
              "4             0  23.71        0                0       0            28.0   \n",
              "\n",
              "   MentalHealth  DiffWalking  Sex  AgeCategory  Race  Diabetic  \\\n",
              "0          30.0            0    0            7     5         2   \n",
              "1           0.0            0    0           12     5         0   \n",
              "2          30.0            0    1            9     5         2   \n",
              "3           0.0            0    0           11     5         0   \n",
              "4           0.0            1    0            4     5         0   \n",
              "\n",
              "   PhysicalActivity  GenHealth  SleepTime  Asthma  KidneyDisease  SkinCancer  \n",
              "0                 1          4        5.0       1              0           1  \n",
              "1                 1          4        7.0       0              0           0  \n",
              "2                 1          1        8.0       1              0           0  \n",
              "3                 0          2        6.0       0              0           1  \n",
              "4                 1          4        8.0       0              0           0  "
            ],
            "text/html": [
              "\n",
              "  <div id=\"df-10543a00-88f6-431c-9353-4f04a5b98fa1\">\n",
              "    <div class=\"colab-df-container\">\n",
              "      <div>\n",
              "<style scoped>\n",
              "    .dataframe tbody tr th:only-of-type {\n",
              "        vertical-align: middle;\n",
              "    }\n",
              "\n",
              "    .dataframe tbody tr th {\n",
              "        vertical-align: top;\n",
              "    }\n",
              "\n",
              "    .dataframe thead th {\n",
              "        text-align: right;\n",
              "    }\n",
              "</style>\n",
              "<table border=\"1\" class=\"dataframe\">\n",
              "  <thead>\n",
              "    <tr style=\"text-align: right;\">\n",
              "      <th></th>\n",
              "      <th>HeartDisease</th>\n",
              "      <th>BMI</th>\n",
              "      <th>Smoking</th>\n",
              "      <th>AlcoholDrinking</th>\n",
              "      <th>Stroke</th>\n",
              "      <th>PhysicalHealth</th>\n",
              "      <th>MentalHealth</th>\n",
              "      <th>DiffWalking</th>\n",
              "      <th>Sex</th>\n",
              "      <th>AgeCategory</th>\n",
              "      <th>Race</th>\n",
              "      <th>Diabetic</th>\n",
              "      <th>PhysicalActivity</th>\n",
              "      <th>GenHealth</th>\n",
              "      <th>SleepTime</th>\n",
              "      <th>Asthma</th>\n",
              "      <th>KidneyDisease</th>\n",
              "      <th>SkinCancer</th>\n",
              "    </tr>\n",
              "  </thead>\n",
              "  <tbody>\n",
              "    <tr>\n",
              "      <th>0</th>\n",
              "      <td>0</td>\n",
              "      <td>16.60</td>\n",
              "      <td>1</td>\n",
              "      <td>0</td>\n",
              "      <td>0</td>\n",
              "      <td>3.0</td>\n",
              "      <td>30.0</td>\n",
              "      <td>0</td>\n",
              "      <td>0</td>\n",
              "      <td>7</td>\n",
              "      <td>5</td>\n",
              "      <td>2</td>\n",
              "      <td>1</td>\n",
              "      <td>4</td>\n",
              "      <td>5.0</td>\n",
              "      <td>1</td>\n",
              "      <td>0</td>\n",
              "      <td>1</td>\n",
              "    </tr>\n",
              "    <tr>\n",
              "      <th>1</th>\n",
              "      <td>0</td>\n",
              "      <td>20.34</td>\n",
              "      <td>0</td>\n",
              "      <td>0</td>\n",
              "      <td>1</td>\n",
              "      <td>0.0</td>\n",
              "      <td>0.0</td>\n",
              "      <td>0</td>\n",
              "      <td>0</td>\n",
              "      <td>12</td>\n",
              "      <td>5</td>\n",
              "      <td>0</td>\n",
              "      <td>1</td>\n",
              "      <td>4</td>\n",
              "      <td>7.0</td>\n",
              "      <td>0</td>\n",
              "      <td>0</td>\n",
              "      <td>0</td>\n",
              "    </tr>\n",
              "    <tr>\n",
              "      <th>2</th>\n",
              "      <td>0</td>\n",
              "      <td>26.58</td>\n",
              "      <td>1</td>\n",
              "      <td>0</td>\n",
              "      <td>0</td>\n",
              "      <td>20.0</td>\n",
              "      <td>30.0</td>\n",
              "      <td>0</td>\n",
              "      <td>1</td>\n",
              "      <td>9</td>\n",
              "      <td>5</td>\n",
              "      <td>2</td>\n",
              "      <td>1</td>\n",
              "      <td>1</td>\n",
              "      <td>8.0</td>\n",
              "      <td>1</td>\n",
              "      <td>0</td>\n",
              "      <td>0</td>\n",
              "    </tr>\n",
              "    <tr>\n",
              "      <th>3</th>\n",
              "      <td>0</td>\n",
              "      <td>24.21</td>\n",
              "      <td>0</td>\n",
              "      <td>0</td>\n",
              "      <td>0</td>\n",
              "      <td>0.0</td>\n",
              "      <td>0.0</td>\n",
              "      <td>0</td>\n",
              "      <td>0</td>\n",
              "      <td>11</td>\n",
              "      <td>5</td>\n",
              "      <td>0</td>\n",
              "      <td>0</td>\n",
              "      <td>2</td>\n",
              "      <td>6.0</td>\n",
              "      <td>0</td>\n",
              "      <td>0</td>\n",
              "      <td>1</td>\n",
              "    </tr>\n",
              "    <tr>\n",
              "      <th>4</th>\n",
              "      <td>0</td>\n",
              "      <td>23.71</td>\n",
              "      <td>0</td>\n",
              "      <td>0</td>\n",
              "      <td>0</td>\n",
              "      <td>28.0</td>\n",
              "      <td>0.0</td>\n",
              "      <td>1</td>\n",
              "      <td>0</td>\n",
              "      <td>4</td>\n",
              "      <td>5</td>\n",
              "      <td>0</td>\n",
              "      <td>1</td>\n",
              "      <td>4</td>\n",
              "      <td>8.0</td>\n",
              "      <td>0</td>\n",
              "      <td>0</td>\n",
              "      <td>0</td>\n",
              "    </tr>\n",
              "  </tbody>\n",
              "</table>\n",
              "</div>\n",
              "      <button class=\"colab-df-convert\" onclick=\"convertToInteractive('df-10543a00-88f6-431c-9353-4f04a5b98fa1')\"\n",
              "              title=\"Convert this dataframe to an interactive table.\"\n",
              "              style=\"display:none;\">\n",
              "        \n",
              "  <svg xmlns=\"http://www.w3.org/2000/svg\" height=\"24px\"viewBox=\"0 0 24 24\"\n",
              "       width=\"24px\">\n",
              "    <path d=\"M0 0h24v24H0V0z\" fill=\"none\"/>\n",
              "    <path d=\"M18.56 5.44l.94 2.06.94-2.06 2.06-.94-2.06-.94-.94-2.06-.94 2.06-2.06.94zm-11 1L8.5 8.5l.94-2.06 2.06-.94-2.06-.94L8.5 2.5l-.94 2.06-2.06.94zm10 10l.94 2.06.94-2.06 2.06-.94-2.06-.94-.94-2.06-.94 2.06-2.06.94z\"/><path d=\"M17.41 7.96l-1.37-1.37c-.4-.4-.92-.59-1.43-.59-.52 0-1.04.2-1.43.59L10.3 9.45l-7.72 7.72c-.78.78-.78 2.05 0 2.83L4 21.41c.39.39.9.59 1.41.59.51 0 1.02-.2 1.41-.59l7.78-7.78 2.81-2.81c.8-.78.8-2.07 0-2.86zM5.41 20L4 18.59l7.72-7.72 1.47 1.35L5.41 20z\"/>\n",
              "  </svg>\n",
              "      </button>\n",
              "      \n",
              "  <style>\n",
              "    .colab-df-container {\n",
              "      display:flex;\n",
              "      flex-wrap:wrap;\n",
              "      gap: 12px;\n",
              "    }\n",
              "\n",
              "    .colab-df-convert {\n",
              "      background-color: #E8F0FE;\n",
              "      border: none;\n",
              "      border-radius: 50%;\n",
              "      cursor: pointer;\n",
              "      display: none;\n",
              "      fill: #1967D2;\n",
              "      height: 32px;\n",
              "      padding: 0 0 0 0;\n",
              "      width: 32px;\n",
              "    }\n",
              "\n",
              "    .colab-df-convert:hover {\n",
              "      background-color: #E2EBFA;\n",
              "      box-shadow: 0px 1px 2px rgba(60, 64, 67, 0.3), 0px 1px 3px 1px rgba(60, 64, 67, 0.15);\n",
              "      fill: #174EA6;\n",
              "    }\n",
              "\n",
              "    [theme=dark] .colab-df-convert {\n",
              "      background-color: #3B4455;\n",
              "      fill: #D2E3FC;\n",
              "    }\n",
              "\n",
              "    [theme=dark] .colab-df-convert:hover {\n",
              "      background-color: #434B5C;\n",
              "      box-shadow: 0px 1px 3px 1px rgba(0, 0, 0, 0.15);\n",
              "      filter: drop-shadow(0px 1px 2px rgba(0, 0, 0, 0.3));\n",
              "      fill: #FFFFFF;\n",
              "    }\n",
              "  </style>\n",
              "\n",
              "      <script>\n",
              "        const buttonEl =\n",
              "          document.querySelector('#df-10543a00-88f6-431c-9353-4f04a5b98fa1 button.colab-df-convert');\n",
              "        buttonEl.style.display =\n",
              "          google.colab.kernel.accessAllowed ? 'block' : 'none';\n",
              "\n",
              "        async function convertToInteractive(key) {\n",
              "          const element = document.querySelector('#df-10543a00-88f6-431c-9353-4f04a5b98fa1');\n",
              "          const dataTable =\n",
              "            await google.colab.kernel.invokeFunction('convertToInteractive',\n",
              "                                                     [key], {});\n",
              "          if (!dataTable) return;\n",
              "\n",
              "          const docLinkHtml = 'Like what you see? Visit the ' +\n",
              "            '<a target=\"_blank\" href=https://colab.research.google.com/notebooks/data_table.ipynb>data table notebook</a>'\n",
              "            + ' to learn more about interactive tables.';\n",
              "          element.innerHTML = '';\n",
              "          dataTable['output_type'] = 'display_data';\n",
              "          await google.colab.output.renderOutput(dataTable, element);\n",
              "          const docLink = document.createElement('div');\n",
              "          docLink.innerHTML = docLinkHtml;\n",
              "          element.appendChild(docLink);\n",
              "        }\n",
              "      </script>\n",
              "    </div>\n",
              "  </div>\n",
              "  "
            ]
          },
          "metadata": {},
          "execution_count": 15
        }
      ]
    },
    {
      "cell_type": "code",
      "source": [
        "#numeric\n",
        "num_cols = ['MentalHealth', 'BMI', 'PhysicalHealth', 'SleepTime'  ]\n",
        "Scaler = StandardScaler()\n",
        "Health_data[num_cols] = Scaler.fit_transform(Health_data[num_cols])"
      ],
      "metadata": {
        "id": "R2uNZUPUuNvl"
      },
      "execution_count": null,
      "outputs": []
    },
    {
      "cell_type": "code",
      "source": [
        "fig = px.imshow(Health_data.corr(),color_continuous_scale=\"Blues\")\n",
        "fig.update_layout(height=800)\n",
        "fig.show()\n",
        "\n",
        "# If the value is 1, it is said to be a positive correlation between two variables. This means that when one variable increases, the other variable also increases.\n",
        "# If the value is -1, it is said to be a negative correlation between the two variables. This means that when one variable increases, the other variable decreases.\n",
        "# If the value is 0, there is no correlation between the two variables. This means that the variables changes in a random manner with respect to each other."
      ],
      "metadata": {
        "id": "F2IAeknxhFtX",
        "colab": {
          "base_uri": "https://localhost:8080/",
          "height": 817
        },
        "outputId": "edebe107-9180-4f41-b723-9329bc895dab"
      },
      "execution_count": null,
      "outputs": [
        {
          "output_type": "display_data",
          "data": {
            "text/html": [
              "<html>\n",
              "<head><meta charset=\"utf-8\" /></head>\n",
              "<body>\n",
              "    <div>            <script src=\"https://cdnjs.cloudflare.com/ajax/libs/mathjax/2.7.5/MathJax.js?config=TeX-AMS-MML_SVG\"></script><script type=\"text/javascript\">if (window.MathJax) {MathJax.Hub.Config({SVG: {font: \"STIX-Web\"}});}</script>                <script type=\"text/javascript\">window.PlotlyConfig = {MathJaxConfig: 'local'};</script>\n",
              "        <script src=\"https://cdn.plot.ly/plotly-2.8.3.min.js\"></script>                <div id=\"a3648c9e-a034-46e3-b267-ab423f0ce980\" class=\"plotly-graph-div\" style=\"height:800px; width:100%;\"></div>            <script type=\"text/javascript\">                                    window.PLOTLYENV=window.PLOTLYENV || {};                                    if (document.getElementById(\"a3648c9e-a034-46e3-b267-ab423f0ce980\")) {                    Plotly.newPlot(                        \"a3648c9e-a034-46e3-b267-ab423f0ce980\",                        [{\"coloraxis\":\"coloraxis\",\"name\":\"0\",\"x\":[\"HeartDisease\",\"BMI\",\"Smoking\",\"AlcoholDrinking\",\"Stroke\",\"PhysicalHealth\",\"MentalHealth\",\"DiffWalking\",\"Sex\",\"AgeCategory\",\"Race\",\"Diabetic\",\"PhysicalActivity\",\"GenHealth\",\"SleepTime\",\"Asthma\",\"KidneyDisease\",\"SkinCancer\"],\"y\":[\"HeartDisease\",\"BMI\",\"Smoking\",\"AlcoholDrinking\",\"Stroke\",\"PhysicalHealth\",\"MentalHealth\",\"DiffWalking\",\"Sex\",\"AgeCategory\",\"Race\",\"Diabetic\",\"PhysicalActivity\",\"GenHealth\",\"SleepTime\",\"Asthma\",\"KidneyDisease\",\"SkinCancer\"],\"z\":[[1.0,0.05180319065574616,0.10776415602593577,-0.03207974262500417,0.19683529884287068,0.17072097196616898,0.028590714546905937,0.2012580485737773,0.07004047624891856,0.23343223812190508,0.03485361986823872,0.16855284589009628,-0.10002993385404217,-0.011061857578727435,0.008326646858286112,0.04144415110032234,0.14519709877256354,0.09331687769597886],[0.05180319065574616,1.0,0.023118112432698665,-0.03881622302230303,0.019732982346394333,0.10978754360968347,0.06413056947152501,0.18167826388866493,0.026939645259100437,-0.004743989022917992,-0.03742428527856878,0.2024722844389538,-0.15061599390258132,0.03593232799030517,-0.05182225399892166,0.09234501900622286,0.05076753286252515,-0.03364361851533894],[0.10776415602593577,0.023118112432698665,1.0,0.11176752021942088,0.06122603951647455,0.11535241394047388,0.08515728503775119,0.12007416384008394,0.08505248562950851,0.12833089278289073,0.06549914242950419,0.05384717852058866,-0.0971737659539628,0.020625211967987167,-0.030335635088081483,0.024148532018300563,0.03491968628492668,0.03397738727204867],[-0.03207974262500417,-0.03881622302230303,0.11176752021942088,1.0,-0.01985791423814558,-0.01725428832282578,0.05128197282189674,-0.03532758282688487,0.004200142395935715,-0.05952789260462734,0.03670203413265558,-0.05737230025697965,0.01748698277743856,0.0016288216815313406,-0.005065450833865576,-0.0022021002378207716,-0.028280091717843844,-0.005702370452955972],[0.19683529884287068,0.019732982346394333,0.06122603951647455,-0.01985791423814558,1.0,0.13701382711696825,0.04646706132163262,0.17414321368906785,-0.0030910549780765223,0.13782245776152566,-0.003956375675065544,0.10151754552473448,-0.0794551948440212,-0.009335415258719747,0.01189998096058365,0.03886614032726421,0.09116684064825993,0.04811610449906195],[0.17072097196616898,0.10978754360968347,0.11535241394047388,-0.01725428832282578,0.13701382711696825,1.0,0.2879866740873335,0.4283727985461563,-0.04090383931301899,0.11076313038580558,-0.0008474713327981263,0.15136118116276243,-0.2322831770768167,-0.03570282118220595,-0.061386631929491724,0.11790658022328093,0.14219718483824278,0.041699685481714543],[0.028590714546905937,0.06413056947152501,0.08515728503775119,0.05128197282189674,0.04646706132163262,0.2879866740873335,1.0,0.15223466914599226,-0.10005847280447455,-0.15550551892527154,-0.01449076470040632,0.032944776522001555,-0.09580810490226652,-0.004412218241082288,-0.1197167880314171,0.11400817442476359,0.03728112808809347,-0.03341219070921997],[0.2012580485737773,0.18167826388866493,0.12007416384008394,-0.03532758282688487,0.17414321368906785,0.4283727985461563,0.15223466914599226,1.0,-0.06885955945150612,0.24326302695092233,-0.015831391447732983,0.20550214271076622,-0.2785239644744156,-0.043551705449894416,-0.02221635733495281,0.10322204883284222,0.15306375213121043,0.06484040178427677],[0.07004047624891856,0.026939645259100437,0.08505248562950851,0.004200142395935715,-0.0030910549780765223,-0.04090383931301899,-0.10005847280447455,-0.06885955945150612,1.0,-0.0674784071206766,0.01885533438166946,-0.013456173121951048,0.048246845809630415,-0.01028294202454468,-0.015703748280608,-0.06919111638314385,-0.009083858389322482,0.01343379974373332],[0.23343223812190508,-0.004743989022917992,0.12833089278289073,-0.05952789260462734,0.13782245776152566,0.11076313038580558,-0.15550551892527154,0.24326302695092233,-0.0674784071206766,1.0,0.16309004441902242,0.19374468819237997,-0.12168709046223396,0.04442697366335011,0.10495321700851669,-0.05810842964739096,0.12319025063837166,0.2635365656471231],[0.03485361986823872,-0.03742428527856878,0.06549914242950419,0.03670203413265558,-0.003956375675065544,-0.0008474713327981263,-0.01449076470040632,-0.015831391447732983,0.01885533438166946,0.16309004441902242,1.0,-0.05221556652531671,0.05676700867078774,0.050344158015119,0.03588887498744242,-0.017974532090163205,0.003708506714671272,0.13478042185509395],[0.16855284589009628,0.2024722844389538,0.05384717852058866,-0.05737230025697965,0.10151754552473448,0.15136118116276243,0.032944776522001555,0.20550214271076622,-0.013456173121951048,0.19374468819237997,-0.05221556652531671,1.0,-0.13382415021464739,-0.010853756158840646,0.0004492379868743251,0.04982671005743926,0.14291653037205534,0.03252255057644838],[-0.10002993385404217,-0.15061599390258132,-0.0971737659539628,0.01748698277743856,-0.0794551948440212,-0.2322831770768167,-0.09580810490226652,-0.2785239644744156,0.048246845809630415,-0.12168709046223396,0.05676700867078774,-0.13382415021464739,1.0,0.024417990548571137,0.0038488413794422562,-0.0415258817742273,-0.0818273214414323,-0.0013278104683075525],[-0.011061857578727435,0.03593232799030517,0.020625211967987167,0.0016288216815313406,-0.009335415258719747,-0.03570282118220595,-0.004412218241082288,-0.043551705449894416,-0.01028294202454468,0.04442697366335011,0.050344158015119,-0.010853756158840646,0.024417990548571137,1.0,-0.004162811749352545,0.00728048079954238,-0.01058041497917257,0.018982419921812353],[0.008326646858286112,-0.05182225399892166,-0.030335635088081483,-0.005065450833865576,0.01189998096058365,-0.061386631929491724,-0.1197167880314171,-0.02221635733495281,-0.015703748280608,0.10495321700851669,0.03588887498744242,0.0004492379868743251,0.0038488413794422562,-0.004162811749352545,1.0,-0.04824528030804948,0.006237934101449388,0.0412661674865284],[0.04144415110032234,0.09234501900622286,0.024148532018300563,-0.0022021002378207716,0.03886614032726421,0.11790658022328093,0.11400817442476359,0.10322204883284222,-0.06919111638314385,-0.05810842964739096,-0.017974532090163205,0.04982671005743926,-0.0415258817742273,0.00728048079954238,-0.04824528030804948,1.0,0.03970700033814702,-0.0003964769423400938],[0.14519709877256354,0.05076753286252515,0.03491968628492668,-0.028280091717843844,0.09116684064825993,0.14219718483824278,0.03728112808809347,0.15306375213121043,-0.009083858389322482,0.12319025063837166,0.003708506714671272,0.14291653037205534,-0.0818273214414323,-0.01058041497917257,0.006237934101449388,0.03970700033814702,1.0,0.06181621651419233],[0.09331687769597886,-0.03364361851533894,0.03397738727204867,-0.005702370452955972,0.04811610449906195,0.041699685481714543,-0.03341219070921997,0.06484040178427677,0.01343379974373332,0.2635365656471231,0.13478042185509395,0.03252255057644838,-0.0013278104683075525,0.018982419921812353,0.0412661674865284,-0.0003964769423400938,0.06181621651419233,1.0]],\"type\":\"heatmap\",\"xaxis\":\"x\",\"yaxis\":\"y\",\"hovertemplate\":\"x: %{x}<br>y: %{y}<br>color: %{z}<extra></extra>\"}],                        {\"template\":{\"data\":{\"bar\":[{\"error_x\":{\"color\":\"#2a3f5f\"},\"error_y\":{\"color\":\"#2a3f5f\"},\"marker\":{\"line\":{\"color\":\"#E5ECF6\",\"width\":0.5},\"pattern\":{\"fillmode\":\"overlay\",\"size\":10,\"solidity\":0.2}},\"type\":\"bar\"}],\"barpolar\":[{\"marker\":{\"line\":{\"color\":\"#E5ECF6\",\"width\":0.5},\"pattern\":{\"fillmode\":\"overlay\",\"size\":10,\"solidity\":0.2}},\"type\":\"barpolar\"}],\"carpet\":[{\"aaxis\":{\"endlinecolor\":\"#2a3f5f\",\"gridcolor\":\"white\",\"linecolor\":\"white\",\"minorgridcolor\":\"white\",\"startlinecolor\":\"#2a3f5f\"},\"baxis\":{\"endlinecolor\":\"#2a3f5f\",\"gridcolor\":\"white\",\"linecolor\":\"white\",\"minorgridcolor\":\"white\",\"startlinecolor\":\"#2a3f5f\"},\"type\":\"carpet\"}],\"choropleth\":[{\"colorbar\":{\"outlinewidth\":0,\"ticks\":\"\"},\"type\":\"choropleth\"}],\"contour\":[{\"colorbar\":{\"outlinewidth\":0,\"ticks\":\"\"},\"colorscale\":[[0.0,\"#0d0887\"],[0.1111111111111111,\"#46039f\"],[0.2222222222222222,\"#7201a8\"],[0.3333333333333333,\"#9c179e\"],[0.4444444444444444,\"#bd3786\"],[0.5555555555555556,\"#d8576b\"],[0.6666666666666666,\"#ed7953\"],[0.7777777777777778,\"#fb9f3a\"],[0.8888888888888888,\"#fdca26\"],[1.0,\"#f0f921\"]],\"type\":\"contour\"}],\"contourcarpet\":[{\"colorbar\":{\"outlinewidth\":0,\"ticks\":\"\"},\"type\":\"contourcarpet\"}],\"heatmap\":[{\"colorbar\":{\"outlinewidth\":0,\"ticks\":\"\"},\"colorscale\":[[0.0,\"#0d0887\"],[0.1111111111111111,\"#46039f\"],[0.2222222222222222,\"#7201a8\"],[0.3333333333333333,\"#9c179e\"],[0.4444444444444444,\"#bd3786\"],[0.5555555555555556,\"#d8576b\"],[0.6666666666666666,\"#ed7953\"],[0.7777777777777778,\"#fb9f3a\"],[0.8888888888888888,\"#fdca26\"],[1.0,\"#f0f921\"]],\"type\":\"heatmap\"}],\"heatmapgl\":[{\"colorbar\":{\"outlinewidth\":0,\"ticks\":\"\"},\"colorscale\":[[0.0,\"#0d0887\"],[0.1111111111111111,\"#46039f\"],[0.2222222222222222,\"#7201a8\"],[0.3333333333333333,\"#9c179e\"],[0.4444444444444444,\"#bd3786\"],[0.5555555555555556,\"#d8576b\"],[0.6666666666666666,\"#ed7953\"],[0.7777777777777778,\"#fb9f3a\"],[0.8888888888888888,\"#fdca26\"],[1.0,\"#f0f921\"]],\"type\":\"heatmapgl\"}],\"histogram\":[{\"marker\":{\"pattern\":{\"fillmode\":\"overlay\",\"size\":10,\"solidity\":0.2}},\"type\":\"histogram\"}],\"histogram2d\":[{\"colorbar\":{\"outlinewidth\":0,\"ticks\":\"\"},\"colorscale\":[[0.0,\"#0d0887\"],[0.1111111111111111,\"#46039f\"],[0.2222222222222222,\"#7201a8\"],[0.3333333333333333,\"#9c179e\"],[0.4444444444444444,\"#bd3786\"],[0.5555555555555556,\"#d8576b\"],[0.6666666666666666,\"#ed7953\"],[0.7777777777777778,\"#fb9f3a\"],[0.8888888888888888,\"#fdca26\"],[1.0,\"#f0f921\"]],\"type\":\"histogram2d\"}],\"histogram2dcontour\":[{\"colorbar\":{\"outlinewidth\":0,\"ticks\":\"\"},\"colorscale\":[[0.0,\"#0d0887\"],[0.1111111111111111,\"#46039f\"],[0.2222222222222222,\"#7201a8\"],[0.3333333333333333,\"#9c179e\"],[0.4444444444444444,\"#bd3786\"],[0.5555555555555556,\"#d8576b\"],[0.6666666666666666,\"#ed7953\"],[0.7777777777777778,\"#fb9f3a\"],[0.8888888888888888,\"#fdca26\"],[1.0,\"#f0f921\"]],\"type\":\"histogram2dcontour\"}],\"mesh3d\":[{\"colorbar\":{\"outlinewidth\":0,\"ticks\":\"\"},\"type\":\"mesh3d\"}],\"parcoords\":[{\"line\":{\"colorbar\":{\"outlinewidth\":0,\"ticks\":\"\"}},\"type\":\"parcoords\"}],\"pie\":[{\"automargin\":true,\"type\":\"pie\"}],\"scatter\":[{\"marker\":{\"colorbar\":{\"outlinewidth\":0,\"ticks\":\"\"}},\"type\":\"scatter\"}],\"scatter3d\":[{\"line\":{\"colorbar\":{\"outlinewidth\":0,\"ticks\":\"\"}},\"marker\":{\"colorbar\":{\"outlinewidth\":0,\"ticks\":\"\"}},\"type\":\"scatter3d\"}],\"scattercarpet\":[{\"marker\":{\"colorbar\":{\"outlinewidth\":0,\"ticks\":\"\"}},\"type\":\"scattercarpet\"}],\"scattergeo\":[{\"marker\":{\"colorbar\":{\"outlinewidth\":0,\"ticks\":\"\"}},\"type\":\"scattergeo\"}],\"scattergl\":[{\"marker\":{\"colorbar\":{\"outlinewidth\":0,\"ticks\":\"\"}},\"type\":\"scattergl\"}],\"scattermapbox\":[{\"marker\":{\"colorbar\":{\"outlinewidth\":0,\"ticks\":\"\"}},\"type\":\"scattermapbox\"}],\"scatterpolar\":[{\"marker\":{\"colorbar\":{\"outlinewidth\":0,\"ticks\":\"\"}},\"type\":\"scatterpolar\"}],\"scatterpolargl\":[{\"marker\":{\"colorbar\":{\"outlinewidth\":0,\"ticks\":\"\"}},\"type\":\"scatterpolargl\"}],\"scatterternary\":[{\"marker\":{\"colorbar\":{\"outlinewidth\":0,\"ticks\":\"\"}},\"type\":\"scatterternary\"}],\"surface\":[{\"colorbar\":{\"outlinewidth\":0,\"ticks\":\"\"},\"colorscale\":[[0.0,\"#0d0887\"],[0.1111111111111111,\"#46039f\"],[0.2222222222222222,\"#7201a8\"],[0.3333333333333333,\"#9c179e\"],[0.4444444444444444,\"#bd3786\"],[0.5555555555555556,\"#d8576b\"],[0.6666666666666666,\"#ed7953\"],[0.7777777777777778,\"#fb9f3a\"],[0.8888888888888888,\"#fdca26\"],[1.0,\"#f0f921\"]],\"type\":\"surface\"}],\"table\":[{\"cells\":{\"fill\":{\"color\":\"#EBF0F8\"},\"line\":{\"color\":\"white\"}},\"header\":{\"fill\":{\"color\":\"#C8D4E3\"},\"line\":{\"color\":\"white\"}},\"type\":\"table\"}]},\"layout\":{\"annotationdefaults\":{\"arrowcolor\":\"#2a3f5f\",\"arrowhead\":0,\"arrowwidth\":1},\"autotypenumbers\":\"strict\",\"coloraxis\":{\"colorbar\":{\"outlinewidth\":0,\"ticks\":\"\"}},\"colorscale\":{\"diverging\":[[0,\"#8e0152\"],[0.1,\"#c51b7d\"],[0.2,\"#de77ae\"],[0.3,\"#f1b6da\"],[0.4,\"#fde0ef\"],[0.5,\"#f7f7f7\"],[0.6,\"#e6f5d0\"],[0.7,\"#b8e186\"],[0.8,\"#7fbc41\"],[0.9,\"#4d9221\"],[1,\"#276419\"]],\"sequential\":[[0.0,\"#0d0887\"],[0.1111111111111111,\"#46039f\"],[0.2222222222222222,\"#7201a8\"],[0.3333333333333333,\"#9c179e\"],[0.4444444444444444,\"#bd3786\"],[0.5555555555555556,\"#d8576b\"],[0.6666666666666666,\"#ed7953\"],[0.7777777777777778,\"#fb9f3a\"],[0.8888888888888888,\"#fdca26\"],[1.0,\"#f0f921\"]],\"sequentialminus\":[[0.0,\"#0d0887\"],[0.1111111111111111,\"#46039f\"],[0.2222222222222222,\"#7201a8\"],[0.3333333333333333,\"#9c179e\"],[0.4444444444444444,\"#bd3786\"],[0.5555555555555556,\"#d8576b\"],[0.6666666666666666,\"#ed7953\"],[0.7777777777777778,\"#fb9f3a\"],[0.8888888888888888,\"#fdca26\"],[1.0,\"#f0f921\"]]},\"colorway\":[\"#636efa\",\"#EF553B\",\"#00cc96\",\"#ab63fa\",\"#FFA15A\",\"#19d3f3\",\"#FF6692\",\"#B6E880\",\"#FF97FF\",\"#FECB52\"],\"font\":{\"color\":\"#2a3f5f\"},\"geo\":{\"bgcolor\":\"white\",\"lakecolor\":\"white\",\"landcolor\":\"#E5ECF6\",\"showlakes\":true,\"showland\":true,\"subunitcolor\":\"white\"},\"hoverlabel\":{\"align\":\"left\"},\"hovermode\":\"closest\",\"mapbox\":{\"style\":\"light\"},\"paper_bgcolor\":\"white\",\"plot_bgcolor\":\"#E5ECF6\",\"polar\":{\"angularaxis\":{\"gridcolor\":\"white\",\"linecolor\":\"white\",\"ticks\":\"\"},\"bgcolor\":\"#E5ECF6\",\"radialaxis\":{\"gridcolor\":\"white\",\"linecolor\":\"white\",\"ticks\":\"\"}},\"scene\":{\"xaxis\":{\"backgroundcolor\":\"#E5ECF6\",\"gridcolor\":\"white\",\"gridwidth\":2,\"linecolor\":\"white\",\"showbackground\":true,\"ticks\":\"\",\"zerolinecolor\":\"white\"},\"yaxis\":{\"backgroundcolor\":\"#E5ECF6\",\"gridcolor\":\"white\",\"gridwidth\":2,\"linecolor\":\"white\",\"showbackground\":true,\"ticks\":\"\",\"zerolinecolor\":\"white\"},\"zaxis\":{\"backgroundcolor\":\"#E5ECF6\",\"gridcolor\":\"white\",\"gridwidth\":2,\"linecolor\":\"white\",\"showbackground\":true,\"ticks\":\"\",\"zerolinecolor\":\"white\"}},\"shapedefaults\":{\"line\":{\"color\":\"#2a3f5f\"}},\"ternary\":{\"aaxis\":{\"gridcolor\":\"white\",\"linecolor\":\"white\",\"ticks\":\"\"},\"baxis\":{\"gridcolor\":\"white\",\"linecolor\":\"white\",\"ticks\":\"\"},\"bgcolor\":\"#E5ECF6\",\"caxis\":{\"gridcolor\":\"white\",\"linecolor\":\"white\",\"ticks\":\"\"}},\"title\":{\"x\":0.05},\"xaxis\":{\"automargin\":true,\"gridcolor\":\"white\",\"linecolor\":\"white\",\"ticks\":\"\",\"title\":{\"standoff\":15},\"zerolinecolor\":\"white\",\"zerolinewidth\":2},\"yaxis\":{\"automargin\":true,\"gridcolor\":\"white\",\"linecolor\":\"white\",\"ticks\":\"\",\"title\":{\"standoff\":15},\"zerolinecolor\":\"white\",\"zerolinewidth\":2}}},\"xaxis\":{\"anchor\":\"y\",\"domain\":[0.0,1.0],\"scaleanchor\":\"y\",\"constrain\":\"domain\"},\"yaxis\":{\"anchor\":\"x\",\"domain\":[0.0,1.0],\"autorange\":\"reversed\",\"constrain\":\"domain\"},\"coloraxis\":{\"colorscale\":[[0.0,\"rgb(247,251,255)\"],[0.125,\"rgb(222,235,247)\"],[0.25,\"rgb(198,219,239)\"],[0.375,\"rgb(158,202,225)\"],[0.5,\"rgb(107,174,214)\"],[0.625,\"rgb(66,146,198)\"],[0.75,\"rgb(33,113,181)\"],[0.875,\"rgb(8,81,156)\"],[1.0,\"rgb(8,48,107)\"]]},\"margin\":{\"t\":60},\"height\":800},                        {\"responsive\": true}                    ).then(function(){\n",
              "                            \n",
              "var gd = document.getElementById('a3648c9e-a034-46e3-b267-ab423f0ce980');\n",
              "var x = new MutationObserver(function (mutations, observer) {{\n",
              "        var display = window.getComputedStyle(gd).display;\n",
              "        if (!display || display === 'none') {{\n",
              "            console.log([gd, 'removed!']);\n",
              "            Plotly.purge(gd);\n",
              "            observer.disconnect();\n",
              "        }}\n",
              "}});\n",
              "\n",
              "// Listen for the removal of the full notebook cells\n",
              "var notebookContainer = gd.closest('#notebook-container');\n",
              "if (notebookContainer) {{\n",
              "    x.observe(notebookContainer, {childList: true});\n",
              "}}\n",
              "\n",
              "// Listen for the clearing of the current output cell\n",
              "var outputEl = gd.closest('.output');\n",
              "if (outputEl) {{\n",
              "    x.observe(outputEl, {childList: true});\n",
              "}}\n",
              "\n",
              "                        })                };                            </script>        </div>\n",
              "</body>\n",
              "</html>"
            ]
          },
          "metadata": {}
        }
      ]
    },
    {
      "cell_type": "code",
      "source": [
        "# iloc[] function is used to select values from the dataset\n",
        "# independent variables\n",
        "\n",
        "Health_data.drop(\"Sex\",axis=1, inplace=True)\n",
        "Health_data.drop(\"Race\",axis=1, inplace=True)\n",
        "Health_data.drop(\"PhysicalHealth\",axis=1, inplace=True)\n",
        "Health_data.drop(\"MentalHealth\",axis=1, inplace=True)\n",
        "Health_data.drop(\"BMI\",axis=1, inplace=True)\n",
        "Health_data.drop(\"SkinCancer\",axis=1, inplace=True)\n",
        "Health_data.drop(\"Smoking\",axis=1, inplace=True)\n",
        "Health_data.drop(\"PhysicalActivity\",axis=1, inplace=True)\n",
        "Health_data.drop(\"SleepTime\",axis=1, inplace=True)\n",
        "Health_data.drop(\"GenHealth\",axis=1, inplace=True)\n",
        "Health_data.drop(\"Asthma\",axis=1, inplace=True)\n",
        "Health_data.drop(\"Diabetic\",axis=1, inplace=True)\n",
        "Health_data.drop(\"AlcoholDrinking\",axis=1, inplace=True)\n",
        "\n",
        "\n",
        "X = Health_data.iloc[:,1:].values\n",
        "# dependent variable\n",
        "y = Health_data.iloc[:,0].values"
      ],
      "metadata": {
        "id": "ghTEbSKw7Xn8"
      },
      "execution_count": null,
      "outputs": []
    },
    {
      "cell_type": "code",
      "source": [
        "# train_test_split() is used to divide dataset into training and test set\n",
        "X_train, X_test, y_train, y_test = train_test_split(X, y, test_size=0.2)"
      ],
      "metadata": {
        "id": "dmvEdWim7aze"
      },
      "execution_count": null,
      "outputs": []
    },
    {
      "cell_type": "code",
      "source": [
        "# declaring an object of standardscaler class\n",
        "sc = StandardScaler()\n",
        "# fit_transform() method first trains the Scaler on dataset and then transforms it between 0 and 1\n",
        "X_train = sc.fit_transform(X_train)\n",
        "# transform() method only transforms the dataset based on what it has learnt on the dataset before\n",
        "X_test = sc.transform(X_test)"
      ],
      "metadata": {
        "id": "XkY0Vfth9CDi"
      },
      "execution_count": null,
      "outputs": []
    },
    {
      "cell_type": "code",
      "source": [
        "# declaring a object of GaussianNB class\n",
        "clf_Gaussian = GaussianNB()\n",
        "clf_Gaussian.fit(X_train, y_train)\n",
        "y_pred = clf_Gaussian.predict(X_test)\n",
        "print(\"Accuracy:\",clf_Gaussian.score(X_test, y_test))\n",
        "print('Precision: %s' % precision_score(y_test, y_pred))\n",
        "print('F1 score: %s' % f1_score(y_test, y_pred))"
      ],
      "metadata": {
        "id": "EYsCa0sW6-S_",
        "colab": {
          "base_uri": "https://localhost:8080/"
        },
        "outputId": "c1913765-7ce4-4df6-d7b8-0249e94b4b6c"
      },
      "execution_count": null,
      "outputs": [
        {
          "output_type": "stream",
          "name": "stdout",
          "text": [
            "Accuracy: 0.8885536046529808\n",
            "Precision: 0.3193013882669055\n",
            "F1 score: 0.28577154308617236\n"
          ]
        }
      ]
    },
    {
      "cell_type": "code",
      "source": [
        "from sklearn.metrics import classification_report\n",
        "\n",
        "print(classification_report(y_test, y_pred))"
      ],
      "metadata": {
        "colab": {
          "base_uri": "https://localhost:8080/"
        },
        "id": "pFXrkU2JDNGZ",
        "outputId": "8ab30e88-820c-4fa7-f477-9bd4ef96c176"
      },
      "execution_count": null,
      "outputs": [
        {
          "output_type": "stream",
          "name": "stdout",
          "text": [
            "              precision    recall  f1-score   support\n",
            "\n",
            "           0       0.93      0.95      0.94     58445\n",
            "           1       0.32      0.26      0.29      5514\n",
            "\n",
            "    accuracy                           0.89     63959\n",
            "   macro avg       0.63      0.60      0.61     63959\n",
            "weighted avg       0.88      0.89      0.88     63959\n",
            "\n"
          ]
        }
      ]
    },
    {
      "cell_type": "code",
      "source": [
        "from sklearn.metrics import confusion_matrix\n",
        "print(confusion_matrix(y_test, y_pred))"
      ],
      "metadata": {
        "colab": {
          "base_uri": "https://localhost:8080/"
        },
        "id": "XWmCzS9cDznI",
        "outputId": "e80a4ad7-c4a7-4104-bc6b-29ab27af9a56"
      },
      "execution_count": null,
      "outputs": [
        {
          "output_type": "stream",
          "name": "stdout",
          "text": [
            "[[55405  3040]\n",
            " [ 4088  1426]]\n"
          ]
        }
      ]
    },
    {
      "cell_type": "code",
      "source": [
        "knn = KNeighborsClassifier(n_neighbors=5)\n",
        "knn.fit(X_train, y_train)\n",
        "y_pred = knn.predict(X_test)\n",
        "print(\"Accuracy:\",metrics.accuracy_score(y_test, y_pred))\n",
        "print('Precision: %s' % precision_score(y_test, y_pred))\n",
        "print('F1 score: %s' % f1_score(y_test, y_pred))"
      ],
      "metadata": {
        "id": "g9L_nyQ673jV",
        "colab": {
          "base_uri": "https://localhost:8080/"
        },
        "outputId": "903efd97-4aae-4566-88f2-0fcdbe20a56a"
      },
      "execution_count": null,
      "outputs": [
        {
          "output_type": "stream",
          "name": "stdout",
          "text": [
            "Accuracy: 0.9015150330680592\n",
            "Precision: 0.31459612659423714\n",
            "F1 score: 0.17455117284759533\n"
          ]
        }
      ]
    },
    {
      "cell_type": "code",
      "source": [
        "from sklearn.metrics import classification_report\n",
        "\n",
        "print(classification_report(y_test, y_pred))"
      ],
      "metadata": {
        "colab": {
          "base_uri": "https://localhost:8080/"
        },
        "id": "WH2RF7h9Bi9L",
        "outputId": "8ae91805-57b0-4782-b345-d7b8a2d0ba49"
      },
      "execution_count": null,
      "outputs": [
        {
          "output_type": "stream",
          "name": "stdout",
          "text": [
            "              precision    recall  f1-score   support\n",
            "\n",
            "           0       0.92      0.98      0.95     58445\n",
            "           1       0.31      0.12      0.17      5514\n",
            "\n",
            "    accuracy                           0.90     63959\n",
            "   macro avg       0.62      0.55      0.56     63959\n",
            "weighted avg       0.87      0.90      0.88     63959\n",
            "\n"
          ]
        }
      ]
    },
    {
      "cell_type": "code",
      "source": [
        "from sklearn.metrics import confusion_matrix\n",
        "print(confusion_matrix(y_test, y_pred))"
      ],
      "metadata": {
        "colab": {
          "base_uri": "https://localhost:8080/"
        },
        "id": "qlilljjVBqJ2",
        "outputId": "4eeb4f6e-914a-484d-d11d-562645de3172"
      },
      "execution_count": null,
      "outputs": [
        {
          "output_type": "stream",
          "name": "stdout",
          "text": [
            "[[56994  1451]\n",
            " [ 4848   666]]\n"
          ]
        }
      ]
    },
    {
      "cell_type": "markdown",
      "source": [
        "![1_CySKXJyCVQGfMLd486dJEg.png](data:image/png;base64,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)   \n",
        "\n",
        "\n",
        "\n",
        "*   True positives (TP): the cases for which the classifier predicted ‘heart disease’ and the people had actually heart disease.\n",
        "*   True negatives (TN): the cases for which the classifier predicted ‘no heart disease’ and the people had not heart disease.\n",
        "*   False positives (FP): the cases for which the classifier predicted ‘no heart disease’ but the people had actually heart disease.\n",
        "*   False negatives (FN): the cases for which the classifier predicted 'heart disease’ but the the people had not heart disease."
      ],
      "metadata": {
        "id": "dY0drs5YSO1h"
      }
    }
  ]
}